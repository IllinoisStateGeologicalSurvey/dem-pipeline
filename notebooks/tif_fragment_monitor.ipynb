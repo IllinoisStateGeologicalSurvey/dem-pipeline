{
 "cells": [
  {
   "cell_type": "markdown",
   "metadata": {},
   "source": [
    "### Monitor TIF fragment monitoring "
   ]
  },
  {
   "cell_type": "code",
   "execution_count": 29,
   "metadata": {},
   "outputs": [],
   "source": [
    "import os\n",
    "from glob import glob\n",
    "from shapely.geometry import box\n",
    "import geopandas as gpd\n",
    "from whitebox import WhiteboxTools\n",
    "\n",
    "DEM_TINDEX = '/home/jovyan/DEM_tindex.gpkg'\n",
    "LAS_TINDEX = '/home/jovyan/LAS_tindex.gpkg'"
   ]
  },
  {
   "cell_type": "code",
   "execution_count": 2,
   "metadata": {},
   "outputs": [],
   "source": [
    "dems = gpd.read_file(DEM_TINDEX)"
   ]
  },
  {
   "cell_type": "code",
   "execution_count": 18,
   "metadata": {},
   "outputs": [
    {
     "name": "stdout",
     "output_type": "stream",
     "text": [
      "335930 LAS tiles found, crs={'init': 'epsg:4326'}\n"
     ]
    }
   ],
   "source": [
    "las = gpd.read_file(LAS_TINDEX)\n",
    "las['location'] = las['location'].str.replace('/mnt/nrcs/isgs', '/home/jovyan')\n",
    "print(f'{len(las)} LAS tiles found, crs={las.crs}')\n",
    "sindex = las.sindex\n"
   ]
  },
  {
   "cell_type": "code",
   "execution_count": 44,
   "metadata": {},
   "outputs": [
    {
     "name": "stdout",
     "output_type": "stream",
     "text": [
      "308060\n"
     ]
    }
   ],
   "source": [
    "lasdirs = {os.path.split(path)[0]:1 for path in las['location']}\n",
    "\n",
    "print(len(tifs))"
   ]
  },
  {
   "cell_type": "code",
   "execution_count": 47,
   "metadata": {},
   "outputs": [
    {
     "name": "stdout",
     "output_type": "stream",
     "text": [
      "331671 added 331671\n"
     ]
    },
    {
     "ename": "KeyboardInterrupt",
     "evalue": "",
     "output_type": "error",
     "traceback": [
      "\u001b[0;31m---------------------------------------------------------------------------\u001b[0m",
      "\u001b[0;31mKeyboardInterrupt\u001b[0m                         Traceback (most recent call last)",
      "\u001b[0;32m<ipython-input-47-4e1df8d3f421>\u001b[0m in \u001b[0;36m<module>\u001b[0;34m\u001b[0m\n\u001b[1;32m      7\u001b[0m         \u001b[0;32mbreak\u001b[0m\u001b[0;34m\u001b[0m\u001b[0;34m\u001b[0m\u001b[0m\n\u001b[1;32m      8\u001b[0m     \u001b[0mtifcount\u001b[0m \u001b[0;34m=\u001b[0m \u001b[0mlen\u001b[0m\u001b[0;34m(\u001b[0m\u001b[0mtifs\u001b[0m\u001b[0;34m)\u001b[0m\u001b[0;34m\u001b[0m\u001b[0;34m\u001b[0m\u001b[0m\n\u001b[0;32m----> 9\u001b[0;31m     \u001b[0msleep\u001b[0m\u001b[0;34m(\u001b[0m\u001b[0;36m600\u001b[0m\u001b[0;34m)\u001b[0m\u001b[0;34m\u001b[0m\u001b[0;34m\u001b[0m\u001b[0m\n\u001b[0m",
      "\u001b[0;31mKeyboardInterrupt\u001b[0m: "
     ]
    }
   ],
   "source": [
    "from time import sleep\n",
    "tifs, tifcount = [], 0\n",
    "while len(tifs) < len(las):\n",
    "    tifs = [f for path in lasdir.keys() for f in glob(os.path.join(path, '*.tif'))]\n",
    "    print(len(tifs), 'added', len(tifs)-tifcount)\n",
    "    if len(tifs)-tifcount == 0:\n",
    "        break\n",
    "    tifcount = len(tifs)\n",
    "    sleep(600)"
   ]
  },
  {
   "cell_type": "code",
   "execution_count": 51,
   "metadata": {},
   "outputs": [
    {
     "name": "stdout",
     "output_type": "stream",
     "text": [
      "0 5414 5414 /home/jovyan/lidar/knox/LAS\n",
      "0 3741 3741 /home/jovyan/lidar/effingham/las\n",
      "0 775 775 /home/jovyan/lidar/christian/CLASSIFIED_POINT_CLOUD_v1_2\n",
      "0 6422 6422 /home/jovyan/lidar/bureau/las\n",
      "0 8807 8807 /home/jovyan/lidar/mclean/LAS\n",
      "0 10 10 /home/jovyan/lidar/mclean/filtered\n",
      "0 565 565 /home/jovyan/lidar/franklin\n",
      "0 3626 3626 /home/jovyan/lidar/carroll/las\n",
      "0 2112 2112 /home/jovyan/lidar/boone/Classified_LAS_1.4\n",
      "0 4272 4272 /home/jovyan/lidar/mason/las\n",
      "0 3112 3112 /home/jovyan/lidar/marshall/las\n",
      "0 632 632 /home/jovyan/lidar/jefferson/./LAS\n",
      "0 3085 3085 /home/jovyan/lidar/richland/las\n",
      "0 3512 3512 /home/jovyan/lidar/crawford/las\n",
      "0 4374 4374 /home/jovyan/lidar/macon/las\n",
      "0 5271 5271 /home/jovyan/lidar/wayne/las\n",
      "0 4684 4684 /home/jovyan/lidar/edgar/LAS\n",
      "0 3316 3316 /home/jovyan/lidar/pope/las\n",
      "0 2217 2217 /home/jovyan/lidar/stark/las\n",
      "0 3046 3046 /home/jovyan/lidar/henderson/LAS\n",
      "0 4086 4086 /home/jovyan/lidar/greene/las\n",
      "0 807 807 /home/jovyan/lidar/jackson\n",
      "0 3183 3183 /home/jovyan/lidar/douglas/LAS\n",
      "0 509 509 /home/jovyan/lidar/bond/LAS\n",
      "0 4547 4547 /home/jovyan/lidar/jodaviess/las\n",
      "0 223 223 /home/jovyan/lidar/alexander/.\n",
      "0 3098 3098 /home/jovyan/lidar/dewitt/LAS\n",
      "2606 6198 3592 /home/jovyan/lidar/pike/./las\n",
      "0 4399 4399 /home/jovyan/lidar/mcdonough/LAS\n",
      "0 287 287 /home/jovyan/lidar/jersey/./las\n",
      "0 567 567 /home/jovyan/lidar/hamilton/./LAS_1.2\n",
      "0 3828 3828 /home/jovyan/lidar/jasper/las\n",
      "0 5326 5326 /home/jovyan/lidar/montgomery/las\n",
      "0 4208 4208 /home/jovyan/lidar/mercer/LAS\n",
      "0 3380 3380 /home/jovyan/lidar/kankakee\n",
      "0 6467 6467 /home/jovyan/lidar/sangamon/las\n",
      "0 730 730 /home/jovyan/lidar/washington/LAS\n",
      "0 6021 6021 /home/jovyan/lidar/hancock/LAS\n",
      "0 235 235 /home/jovyan/lidar/calhoun/las\n",
      "0 3864 3864 /home/jovyan/lidar/clark/las\n",
      "0 3879 3879 /home/jovyan/lidar/kane/las\n",
      "0 2901 2901 /home/jovyan/lidar/lawrence/las\n",
      "0 4245 4245 /home/jovyan/lidar/morgan/las\n",
      "0 3865 3865 /home/jovyan/lidar/winnebago/Classified_LAS_1.4\n",
      "0 5458 5458 /home/jovyan/lidar/fayette/las\n",
      "0 6790 6790 /home/jovyan/lidar/vermilion/LAS\n",
      "0 2006 2006 /home/jovyan/lidar/johnson/./las\n",
      "0 1848 1848 /home/jovyan/lidar/massac/las\n",
      "0 4459 4459 /home/jovyan/lidar/mchenry/LAS\n",
      "0 8029 8029 /home/jovyan/lidar/iroquois/las\n",
      "0 4195 4195 /home/jovyan/lidar/stephenson/las\n",
      "0 5280 5280 /home/jovyan/lidar/whiteside/las\n",
      "0 803 803 /home/jovyan/lidar/randolph\n",
      "0 6027 6027 /home/jovyan/lidar/henry/las\n",
      "0 2800 2800 /home/jovyan/lidar/moultrie/las\n",
      "0 4857 4857 /home/jovyan/lidar/peoria/las\n",
      "0 2364 2364 /home/jovyan/lidar/kendall/las\n",
      "0 1109 1109 /home/jovyan/lidar/will/Classified_LAS\n",
      "0 3994 3994 /home/jovyan/lidar/coles/las\n",
      "0 2419 2419 /home/jovyan/lidar/menard/las\n",
      "0 7605 7605 /home/jovyan/lidar/livingston/LAS_Files\n",
      "0 510 510 /home/jovyan/lidar/monroe/classified_las\n",
      "0 1370 1370 /home/jovyan/lidar/putnam/las\n",
      "0 1826 1826 /home/jovyan/lidar/edwards/las\n",
      "0 1708 1708 /home/jovyan/lidar/hardin/las\n",
      "0 5680 5680 /home/jovyan/lidar/ogle/las\n",
      "0 1009 1009 /home/jovyan/lidar/madison/las\n",
      "0 2592 2592 /home/jovyan/lidar/lasalle/las_2of3\n",
      "0 2853 2853 /home/jovyan/lidar/lasalle/las_3of3\n",
      "0 2796 2796 /home/jovyan/lidar/lasalle/las_1of3\n",
      "0 4654 4654 /home/jovyan/lidar/dekalb/las\n",
      "0 3620 3620 /home/jovyan/lidar/ford/LAS\n",
      "0 3406 3406 /home/jovyan/lidar/piatt/LAS\n",
      "0 657 657 /home/jovyan/lidar/white/./LAS_1.2\n",
      "0 6550 6550 /home/jovyan/lidar/fulton/LAS\n",
      "0 3479 3479 /home/jovyan/lidar/rockisland/las\n",
      "0 319 319 /home/jovyan/lidar/union/.\n",
      "0 1886 1886 /home/jovyan/lidar/scott/las\n",
      "0 2954 2954 /home/jovyan/lidar/cass/Tiles\n",
      "0 4247 4247 /home/jovyan/lidar/marion/LAS_Files\n",
      "0 4186 4186 /home/jovyan/lidar/warren/LAS\n",
      "0 3330 3330 /home/jovyan/lidar/schuyler/las\n",
      "0 5421 5421 /home/jovyan/lidar/lee/las\n",
      "0 3628 3628 /home/jovyan/lidar/clay/las\n",
      "0 2734 2734 /home/jovyan/lidar/cumberland/las\n",
      "0 615 615 /home/jovyan/lidar/perry\n",
      "0 7248 7248 /home/jovyan/lidar/champaign/las\n",
      "0 494 494 /home/jovyan/lidar/lake/las_classified_1.2\n",
      "0 569 569 /home/jovyan/lidar/williamson/./las\n",
      "0 4131 4131 /home/jovyan/lidar/woodford/las\n",
      "0 785 785 /home/jovyan/lidar/stclair\n",
      "0 3145 3145 /home/jovyan/lidar/grundy/las\n",
      "0 5787 5787 /home/jovyan/lidar/shelby/las\n",
      "0 4935 4935 /home/jovyan/lidar/tazewell/las\n",
      "0 6305 6305 /home/jovyan/lidar/macoupin/las\n",
      "0 2356 2356 /home/jovyan/lidar/brown/las\n",
      "0 1625 1625 /home/jovyan/lidar/pulaski/las\n",
      "0 6426 6426 /home/jovyan/lidar/adams/./las_classified\n",
      "0 421 421 /home/jovyan/lidar/dupage/las\n",
      "0 344 344 /home/jovyan/lidar/logan/logan_south\n",
      "39 346 307 /home/jovyan/lidar/logan/logan_north\n",
      "0 1963 1963 /home/jovyan/lidar/wabash/las\n",
      "0 482 482 /home/jovyan/lidar/saline/./LAS_1.2\n",
      "0 649 649 /home/jovyan/lidar/clinton/LAS\n"
     ]
    }
   ],
   "source": [
    "for path in lasdir.keys():\n",
    "    l = glob(os.path.join(path,'*.las'))\n",
    "    t = glob(os.path.join(path,'*.tif'))\n",
    "    print(len(l)-len(t), len(l), len(t), path)"
   ]
  },
  {
   "cell_type": "code",
   "execution_count": null,
   "metadata": {},
   "outputs": [],
   "source": []
  }
 ],
 "metadata": {
  "kernelspec": {
   "display_name": "Python 3",
   "language": "python",
   "name": "python3"
  },
  "language_info": {
   "codemirror_mode": {
    "name": "ipython",
    "version": 3
   },
   "file_extension": ".py",
   "mimetype": "text/x-python",
   "name": "python",
   "nbconvert_exporter": "python",
   "pygments_lexer": "ipython3",
   "version": "3.6.7"
  }
 },
 "nbformat": 4,
 "nbformat_minor": 2
}
