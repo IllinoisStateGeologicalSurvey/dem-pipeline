{
 "cells": [
  {
   "cell_type": "markdown",
   "metadata": {},
   "source": [
    "# Make DEMS\n",
    "Loop through each DEM tile, find the necessary LAS files, "
   ]
  },
  {
   "cell_type": "code",
   "execution_count": null,
   "metadata": {},
   "outputs": [],
   "source": [
    "#!pip install whitebox"
   ]
  },
  {
   "cell_type": "code",
   "execution_count": 11,
   "metadata": {},
   "outputs": [],
   "source": [
    "import os\n",
    "from shapely.geometry import box\n",
    "import geopandas as gpd\n",
    "from whitebox import WhiteboxTools\n",
    "\n",
    "DEM_TINDEX = '/home/jovyan/DEM_tindex.gpkg'\n",
    "LAS_TINDEX = '/home/jovyan/LAS_tindex.gpkg'"
   ]
  },
  {
   "cell_type": "code",
   "execution_count": 9,
   "metadata": {},
   "outputs": [
    {
     "name": "stdout",
     "output_type": "stream",
     "text": [
      "516 east tiles, 572 west tiles\n"
     ]
    },
    {
     "data": {
      "text/html": [
       "<div>\n",
       "<style scoped>\n",
       "    .dataframe tbody tr th:only-of-type {\n",
       "        vertical-align: middle;\n",
       "    }\n",
       "\n",
       "    .dataframe tbody tr th {\n",
       "        vertical-align: top;\n",
       "    }\n",
       "\n",
       "    .dataframe thead th {\n",
       "        text-align: right;\n",
       "    }\n",
       "</style>\n",
       "<table border=\"1\" class=\"dataframe\">\n",
       "  <thead>\n",
       "    <tr style=\"text-align: right;\">\n",
       "      <th></th>\n",
       "      <th>srs</th>\n",
       "      <th>zone</th>\n",
       "      <th>name</th>\n",
       "      <th>geometry</th>\n",
       "    </tr>\n",
       "  </thead>\n",
       "  <tbody>\n",
       "    <tr>\n",
       "      <th>0</th>\n",
       "      <td>EPSG:3443</td>\n",
       "      <td>east</td>\n",
       "      <td>east_719_178</td>\n",
       "      <td>POLYGON ((-89.29442519763219 41.56450650515664...</td>\n",
       "    </tr>\n",
       "    <tr>\n",
       "      <th>1</th>\n",
       "      <td>EPSG:3443</td>\n",
       "      <td>east</td>\n",
       "      <td>east_719_174</td>\n",
       "      <td>POLYGON ((-89.29276436950822 41.45210485851405...</td>\n",
       "    </tr>\n",
       "    <tr>\n",
       "      <th>2</th>\n",
       "      <td>EPSG:3443</td>\n",
       "      <td>east</td>\n",
       "      <td>east_719_170</td>\n",
       "      <td>POLYGON ((-89.29111293732947 41.33970092370969...</td>\n",
       "    </tr>\n",
       "    <tr>\n",
       "      <th>3</th>\n",
       "      <td>EPSG:3443</td>\n",
       "      <td>east</td>\n",
       "      <td>east_719_166</td>\n",
       "      <td>POLYGON ((-89.28947084013322 41.22729470219819...</td>\n",
       "    </tr>\n",
       "    <tr>\n",
       "      <th>4</th>\n",
       "      <td>EPSG:3443</td>\n",
       "      <td>east</td>\n",
       "      <td>east_719_161</td>\n",
       "      <td>POLYGON ((-89.28783801753076 41.11488619546482...</td>\n",
       "    </tr>\n",
       "  </tbody>\n",
       "</table>\n",
       "</div>"
      ],
      "text/plain": [
       "         srs  zone          name  \\\n",
       "0  EPSG:3443  east  east_719_178   \n",
       "1  EPSG:3443  east  east_719_174   \n",
       "2  EPSG:3443  east  east_719_170   \n",
       "3  EPSG:3443  east  east_719_166   \n",
       "4  EPSG:3443  east  east_719_161   \n",
       "\n",
       "                                            geometry  \n",
       "0  POLYGON ((-89.29442519763219 41.56450650515664...  \n",
       "1  POLYGON ((-89.29276436950822 41.45210485851405...  \n",
       "2  POLYGON ((-89.29111293732947 41.33970092370969...  \n",
       "3  POLYGON ((-89.28947084013322 41.22729470219819...  \n",
       "4  POLYGON ((-89.28783801753076 41.11488619546482...  "
      ]
     },
     "execution_count": 9,
     "metadata": {},
     "output_type": "execute_result"
    }
   ],
   "source": [
    "dems = gpd.read_file(DEM_TINDEX)\n",
    "\n",
    "east = dems[dems['zone'] == 'east'].to_crs({'init': 'epsg:3443'})\n",
    "west = dems[dems['zone'] == 'west'].to_crs({'init': 'epsg:3444'})\n",
    "print(f'{len(east)} east tiles, {len(west)} west tiles')"
   ]
  },
  {
   "cell_type": "code",
   "execution_count": 19,
   "metadata": {},
   "outputs": [],
   "source": [
    "las = gpd.read_file(LAS_TINDEX)\n",
    "las['location'] = las['location'].str.replace('/mnt/nrcs/isgs/lidar', '/home/jovyan/lidar')\n",
    "sindex = las.sindex"
   ]
  },
  {
   "cell_type": "code",
   "execution_count": 6,
   "metadata": {},
   "outputs": [
    {
     "name": "stdout",
     "output_type": "stream",
     "text": [
      "(-88.68163101887671, 38.75690348028876, -88.5374464825023, 38.86971246863288) (-88.68163101887671, 38.75690348028876, -88.5374464825023, 38.86971246863288)\n"
     ]
    }
   ],
   "source": [
    "print(tile.bounds, box(*tile.bounds).bounds)"
   ]
  },
  {
   "cell_type": "code",
   "execution_count": 7,
   "metadata": {},
   "outputs": [
    {
     "name": "stdout",
     "output_type": "stream",
     "text": [
      "Requirement already satisfied: whitebox in /opt/conda/lib/python3.6/site-packages (0.9.0)\n",
      "Requirement already satisfied: Click>=6.0 in /opt/conda/lib/python3.6/site-packages (from whitebox) (7.0)\n"
     ]
    }
   ],
   "source": [
    "tile = dems.loc[200, 'geometry']\n",
    "overlap = las.iloc[list(sindex.intersection(tile.bounds))]\n"
   ]
  },
  {
   "cell_type": "code",
   "execution_count": 30,
   "metadata": {},
   "outputs": [],
   "source": [
    "\n",
    "def raster_merge(fname, flist, preserve=True):\n",
    "    \n",
    "    for f in flist:\n",
    "        if not os.path.exists(f):\n",
    "            print(f'{f} not found')\n",
    "            return None\n",
    "        \n",
    "    wbt = WhiteboxTools()\n",
    "    wbt.verbose = False\n",
    "    wbt.mosaic(inputs=';'.join(flist), output=fname, method='nn')\n",
    "    \n",
    "    if not preserve:\n",
    "        for f in flist:\n",
    "            try:\n",
    "                os.remove(f)\n",
    "            except FileNotFoundError:\n",
    "                pass\n",
    "    return fname\n",
    "    \n",
    "def generate_quads(fname, bounds):\n",
    "    basename, ext = os.path.splitext(fname)\n",
    "    minx, miny, maxx, maxy = bounds\n",
    "    midx, midy = minx+(maxx-minx)/2, miny+(maxy-miny)/2\n",
    "    return {basename+'_sw'+ext: (minx, miny, midx, midy),\n",
    "            basename+'_nw'+ext: (minx, midy, midx, maxy),\n",
    "            basename+'_se'+ext: (midx, miny, maxx, midy),\n",
    "            basename+'_ne'+ext: (midx, midy, maxx, maxy)}\n",
    "\n",
    "def merge_tiles(fname, bounds, tiles, sindex, maxfiles=200):\n",
    "    \n",
    "    if os.path.exists(fname):\n",
    "        return\n",
    "    \n",
    "    basename, ext = os.path.splitext(fname)\n",
    "    overlap = las.iloc[list(sindex.intersection(bounds))]\n",
    "    if len(overlap) < maxfiles:\n",
    "        raster_merge(fname, [f.replace('.las', ext) for f in overlap['location']])\n",
    "\n",
    "    else:\n",
    "        flist = []\n",
    "        for qname,qbounds in generate_quads(fname, bounds).items():\n",
    "            flist.append(qname)\n",
    "            overlap = las.iloc[list(sindex.intersection(qbounds))]\n",
    "            raster_merge(qname, [f.replace('.las', ext) for f in overlap['location']])\n",
    "        \n",
    "        raster_merge(fname, flist, preserve=False)\n",
    "        \n",
    "def rec_merge(fname, bounds, tiles, sindex, maxfile=200):\n",
    "    basename, ext = os.path.splitext(fname)\n"
   ]
  },
  {
   "cell_type": "code",
   "execution_count": 31,
   "metadata": {},
   "outputs": [],
   "source": [
    "samples = dems.sample(1)\n",
    "for fname, bounds in zip(samples['name'], samples.bounds.itertuples()):\n",
    "    merge_tiles(f'/home/jovyan/{fname}.tif', bounds[1:], las, sindex, maxfiles=200)\n"
   ]
  },
  {
   "cell_type": "code",
   "execution_count": null,
   "metadata": {},
   "outputs": [],
   "source": []
  },
  {
   "cell_type": "code",
   "execution_count": 33,
   "metadata": {},
   "outputs": [
    {
     "ename": "AttributeError",
     "evalue": "'Series' object has no attribute 'geom_type'",
     "output_type": "error",
     "traceback": [
      "\u001b[0;31m---------------------------------------------------------------------------\u001b[0m",
      "\u001b[0;31mAttributeError\u001b[0m                            Traceback (most recent call last)",
      "\u001b[0;32m<ipython-input-33-5c6852c35afd>\u001b[0m in \u001b[0;36m<module>\u001b[0;34m\u001b[0m\n\u001b[0;32m----> 1\u001b[0;31m \u001b[0mx\u001b[0m \u001b[0;34m=\u001b[0m \u001b[0mgpd\u001b[0m\u001b[0;34m.\u001b[0m\u001b[0moverlay\u001b[0m\u001b[0;34m(\u001b[0m\u001b[0mlas\u001b[0m\u001b[0;34m,\u001b[0m \u001b[0mdems\u001b[0m\u001b[0;34m.\u001b[0m\u001b[0miloc\u001b[0m\u001b[0;34m[\u001b[0m\u001b[0;36m10\u001b[0m\u001b[0;34m]\u001b[0m\u001b[0;34m,\u001b[0m \u001b[0mhow\u001b[0m\u001b[0;34m=\u001b[0m\u001b[0;34m'intersection'\u001b[0m\u001b[0;34m)\u001b[0m\u001b[0;34m\u001b[0m\u001b[0;34m\u001b[0m\u001b[0m\n\u001b[0m",
      "\u001b[0;32m/opt/conda/lib/python3.6/site-packages/geopandas/tools/overlay.py\u001b[0m in \u001b[0;36moverlay\u001b[0;34m(df1, df2, how, make_valid, use_sindex)\u001b[0m\n\u001b[1;32m    352\u001b[0m     \u001b[0maccepted_types\u001b[0m \u001b[0;34m=\u001b[0m \u001b[0;34m[\u001b[0m\u001b[0;34m'Polygon'\u001b[0m\u001b[0;34m,\u001b[0m \u001b[0;34m'MultiPolygon'\u001b[0m\u001b[0;34m]\u001b[0m\u001b[0;34m\u001b[0m\u001b[0;34m\u001b[0m\u001b[0m\n\u001b[1;32m    353\u001b[0m     if (not df1.geom_type.isin(accepted_types).all()\n\u001b[0;32m--> 354\u001b[0;31m             or not df2.geom_type.isin(accepted_types).all()):\n\u001b[0m\u001b[1;32m    355\u001b[0m         raise TypeError(\"overlay only takes GeoDataFrames with (multi)polygon \"\n\u001b[1;32m    356\u001b[0m                         \" geometries.\")\n",
      "\u001b[0;32m/opt/conda/lib/python3.6/site-packages/pandas/core/generic.py\u001b[0m in \u001b[0;36m__getattr__\u001b[0;34m(self, name)\u001b[0m\n\u001b[1;32m   4374\u001b[0m             \u001b[0;32mif\u001b[0m \u001b[0mself\u001b[0m\u001b[0;34m.\u001b[0m\u001b[0m_info_axis\u001b[0m\u001b[0;34m.\u001b[0m\u001b[0m_can_hold_identifiers_and_holds_name\u001b[0m\u001b[0;34m(\u001b[0m\u001b[0mname\u001b[0m\u001b[0;34m)\u001b[0m\u001b[0;34m:\u001b[0m\u001b[0;34m\u001b[0m\u001b[0;34m\u001b[0m\u001b[0m\n\u001b[1;32m   4375\u001b[0m                 \u001b[0;32mreturn\u001b[0m \u001b[0mself\u001b[0m\u001b[0;34m[\u001b[0m\u001b[0mname\u001b[0m\u001b[0;34m]\u001b[0m\u001b[0;34m\u001b[0m\u001b[0;34m\u001b[0m\u001b[0m\n\u001b[0;32m-> 4376\u001b[0;31m             \u001b[0;32mreturn\u001b[0m \u001b[0mobject\u001b[0m\u001b[0;34m.\u001b[0m\u001b[0m__getattribute__\u001b[0m\u001b[0;34m(\u001b[0m\u001b[0mself\u001b[0m\u001b[0;34m,\u001b[0m \u001b[0mname\u001b[0m\u001b[0;34m)\u001b[0m\u001b[0;34m\u001b[0m\u001b[0;34m\u001b[0m\u001b[0m\n\u001b[0m\u001b[1;32m   4377\u001b[0m \u001b[0;34m\u001b[0m\u001b[0m\n\u001b[1;32m   4378\u001b[0m     \u001b[0;32mdef\u001b[0m \u001b[0m__setattr__\u001b[0m\u001b[0;34m(\u001b[0m\u001b[0mself\u001b[0m\u001b[0;34m,\u001b[0m \u001b[0mname\u001b[0m\u001b[0;34m,\u001b[0m \u001b[0mvalue\u001b[0m\u001b[0;34m)\u001b[0m\u001b[0;34m:\u001b[0m\u001b[0;34m\u001b[0m\u001b[0;34m\u001b[0m\u001b[0m\n",
      "\u001b[0;31mAttributeError\u001b[0m: 'Series' object has no attribute 'geom_type'"
     ]
    }
   ],
   "source": [
    "x = gpd.overlay(las, dems.iloc[10], how='intersection')"
   ]
  },
  {
   "cell_type": "code",
   "execution_count": null,
   "metadata": {},
   "outputs": [],
   "source": []
  }
 ],
 "metadata": {
  "kernelspec": {
   "display_name": "Python 3",
   "language": "python",
   "name": "python3"
  },
  "language_info": {
   "codemirror_mode": {
    "name": "ipython",
    "version": 3
   },
   "file_extension": ".py",
   "mimetype": "text/x-python",
   "name": "python",
   "nbconvert_exporter": "python",
   "pygments_lexer": "ipython3",
   "version": "3.6.7"
  }
 },
 "nbformat": 4,
 "nbformat_minor": 2
}
